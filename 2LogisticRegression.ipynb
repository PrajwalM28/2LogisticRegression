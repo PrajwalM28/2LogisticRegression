{
 "cells": [
  {
   "cell_type": "markdown",
   "id": "dae1896a-aa60-4d60-8c14-adc7df6e21d5",
   "metadata": {},
   "source": [
    "# Q1.\n",
    "###  What is the purpose of grid search cv in machine learning, and how does it work?"
   ]
  },
  {
   "cell_type": "markdown",
   "id": "9632b4dc-8a48-40dc-be6f-fa39869bd05a",
   "metadata": {},
   "source": [
    "- Grid search cross-validation is used to tune hyperparameters of a machine learning model.\n",
    "- It works by exhaustively searching through a specified grid of hyperparameters and evaluating the model's performance using cross-validation on each combination of hyperparameters.\n",
    "- The purpose is to find the optimal set of hyperparameters that maximizes the model's performance on unseen data."
   ]
  },
  {
   "cell_type": "markdown",
   "id": "48e26a58-9eef-4a27-ba8e-df53bb7de739",
   "metadata": {},
   "source": [
    "# Q2.\n",
    "### Describe the difference between grid search cv and randomize search cv, and when might you choose one over the other?"
   ]
  },
  {
   "cell_type": "markdown",
   "id": "d6727d33-da82-443f-9e01-0c5fd2d83723",
   "metadata": {},
   "source": [
    "- Grid Search CV searches through all possible combinations of hyperparameters specified in a grid, which can be computationally expensive, especially for a large number of hyperparameters.\n",
    "- Randomized Search CV, on the other hand, randomly samples a specified number of hyperparameter combinations from the hyperparameter space, which can be more efficient and scalable, especially when the hyperparameter space is large."
   ]
  },
  {
   "cell_type": "markdown",
   "id": "bdf49d94-584a-4162-9a06-0170d96d1dcb",
   "metadata": {},
   "source": [
    "# Q3.\n",
    "### What is data leakage, and why is it a problem in machine learning? Provide an example."
   ]
  },
  {
   "cell_type": "markdown",
   "id": "d01dc472-9d44-4e4c-8e52-36f2c0fdd9c2",
   "metadata": {},
   "source": [
    "- Data leakage refers to the situation where information from outside the training dataset is inadvertently used to create the model.\n",
    "- It is a problem in machine learning because it can lead to overly optimistic performance estimates and models that generalize poorly to unseen data.\n",
    "- An example of data leakage is when features are created using information that would not be available at the time of prediction, such as using future information to predict past events."
   ]
  },
  {
   "cell_type": "markdown",
   "id": "5d88eed7-098d-4763-9ff3-158b11787bf9",
   "metadata": {},
   "source": [
    "# Q4.\n",
    "### How can you prevent data leakage when building a machine learning model?"
   ]
  },
  {
   "cell_type": "markdown",
   "id": "ce111ec2-9869-4f54-ae5e-5d20af7e445f",
   "metadata": {},
   "source": [
    "- To prevent data leakage, ensure that all preprocessing steps are performed only on the training data within the cross-validation loop.\n",
    "- Split the data into training and testing sets before any preprocessing steps are applied, and ensure that information from the testing set does not leak into the training set."
   ]
  },
  {
   "cell_type": "markdown",
   "id": "69849cba-c391-4053-9f7d-8140ae156a85",
   "metadata": {},
   "source": [
    "# Q5.\n",
    "###  What is a confusion matrix, and what does it tell you about the performance of a classification model?"
   ]
  },
  {
   "cell_type": "markdown",
   "id": "5b504834-0fd9-40d9-86c4-01927e290df6",
   "metadata": {},
   "source": [
    "- A confusion matrix is a table that summarizes the performance of a classification model by comparing predicted and actual class labels.\n",
    "- It consists of four metrics: true positives (TP), true negatives (TN), false positives (FP), and false negatives (FN)."
   ]
  },
  {
   "cell_type": "markdown",
   "id": "e7c7d470-89bd-4248-89fb-2bf5eac735b8",
   "metadata": {},
   "source": [
    "# Q6.\n",
    "### Explain the difference between precision and recall in the context of a confusion matrix."
   ]
  },
  {
   "cell_type": "markdown",
   "id": "f41d48de-8c75-40bf-ac2f-22d8f616ed78",
   "metadata": {},
   "source": [
    "- Precision is the ratio of true positives to the total predicted positives, indicating the proportion of correctly predicted positive cases among all predicted positive cases.\n",
    "- Recall is the ratio of true positives to the total actual positives, indicating the proportion of correctly predicted positive cases among all actual positive cases."
   ]
  },
  {
   "cell_type": "markdown",
   "id": "56b3e420-9b24-473c-909c-feb344762f54",
   "metadata": {},
   "source": [
    "# Q7.\n",
    "### How can you interpret a confusion matrix to determine which types of errors your model is making?"
   ]
  },
  {
   "cell_type": "markdown",
   "id": "eb8278a6-d77b-4544-b663-d3459da450d8",
   "metadata": {},
   "source": [
    "- By analyzing the confusion matrix, you can determine which types of errors the model is making, such as false positive and false negatives.\n",
    "- You can also assess the balance between precision and recall and make trade-offs depending on the specific requirements of the application."
   ]
  },
  {
   "cell_type": "markdown",
   "id": "07c4a7e2-1764-4b7d-9e42-e08d6e0ff647",
   "metadata": {},
   "source": [
    "# Q8.\n",
    "### What are some common metrics that can be derived from a confusion matrix, and how are they calculated?"
   ]
  },
  {
   "cell_type": "markdown",
   "id": "affb3099-2a4c-4ced-99e2-a4f9872bbe6f",
   "metadata": {},
   "source": [
    " include accuracy, precision, recall, F1 score, specificity, and area under the ROC curve (AUC)."
   ]
  },
  {
   "cell_type": "markdown",
   "id": "24933c44-bb08-418f-8bca-b7eacefd58da",
   "metadata": {},
   "source": [
    "# Q9.\n",
    "###  What is the relationship between the accuracy of a model and the values in its confusion matrix?"
   ]
  },
  {
   "cell_type": "markdown",
   "id": "365f85c2-eb31-42b9-adca-f1f345e1329b",
   "metadata": {},
   "source": [
    "- Model accuracy is the overall proportion of correct predictions, calculated as (TP + TN) / (TP + TN + FP + FN).\n",
    "- The values in the confusion matrix contribute to the calculation of accuracy, but accuracy alone may not provide a complete picture of the model's performance, especially in imbalanced datasets."
   ]
  },
  {
   "cell_type": "markdown",
   "id": "8b6edacc-d58c-4caa-9319-3ce285520b57",
   "metadata": {},
   "source": [
    "# Q10.\n",
    "### How can you use a confusion matrix to identify potential biases or limitations in your machine learning model?"
   ]
  },
  {
   "cell_type": "markdown",
   "id": "0a7c5210-4871-4e56-81e7-95736aed8da1",
   "metadata": {},
   "source": [
    "- A confusion matrix can help identify biases or limitations in the model by revealing patterns of misclassification, such as disproportionately high false positive or false negative rates.\n",
    "- By examining the confusion matrix, you can gain insights into which classes are more challenging for the model to predict accurately and where improvements may be needed."
   ]
  }
 ],
 "metadata": {
  "kernelspec": {
   "display_name": "Python 3 (ipykernel)",
   "language": "python",
   "name": "python3"
  },
  "language_info": {
   "codemirror_mode": {
    "name": "ipython",
    "version": 3
   },
   "file_extension": ".py",
   "mimetype": "text/x-python",
   "name": "python",
   "nbconvert_exporter": "python",
   "pygments_lexer": "ipython3",
   "version": "3.10.8"
  }
 },
 "nbformat": 4,
 "nbformat_minor": 5
}
